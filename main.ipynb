{
 "cells": [
  {
   "cell_type": "markdown",
   "metadata": {},
   "source": [
    "# Library Import"
   ]
  },
  {
   "cell_type": "code",
   "execution_count": 2,
   "metadata": {},
   "outputs": [],
   "source": [
    "import pandas as pd\n",
    "import numpy as np\n",
    "from pathlib import Path\n",
    "\n",
    "import analyzer\n",
    "import neural_network as nn\n",
    "import convolutional_neural_network as cnn\n",
    "import visualizer"
   ]
  },
  {
   "cell_type": "markdown",
   "metadata": {},
   "source": [
    "# Training Data Set Preparation"
   ]
  },
  {
   "cell_type": "code",
   "execution_count": 3,
   "metadata": {},
   "outputs": [],
   "source": [
    "resolution = [200,200]\n",
    "# Resolution should be consistent throughout the file"
   ]
  },
  {
   "cell_type": "code",
   "execution_count": 4,
   "metadata": {},
   "outputs": [
    {
     "name": "stdout",
     "output_type": "stream",
     "text": [
      "Trying to open the file at ORIGINAL_TRAINING_DATA/db1.okc...\n",
      "Trying to read the file at ORIGINAL_TRAINING_DATA/db1.okc...\n",
      "Trying to obtain the range of variables of the file at ORIGINAL_TRAINING_DATA/db1.okc...\n",
      "Trying to obtain the number of grid points of the file at ORIGINAL_TRAINING_DATA/db1.okc...\n",
      "Obtained variable ranges of the file at ORIGINAL_TRAINING_DATA/db1.okc.\n",
      "Trying to determine if the data is sliced...\n",
      "This data is sliced.\n",
      "Trying to open the file at ORIGINAL_TRAINING_DATA/db1.okc...\n",
      "Trying to read the file at ORIGINAL_TRAINING_DATA/db1.okc...\n",
      "Trying to obtain the range of variables of the file at ORIGINAL_TRAINING_DATA/db1.okc...\n",
      "Trying to obtain the number of grid points of the file at ORIGINAL_TRAINING_DATA/db1.okc...\n",
      "Obtained variable ranges of the file at ORIGINAL_TRAINING_DATA/db1.okc.\n",
      "Obtain the time for this data.\n",
      "Trying to open the file at ORIGINAL_TRAINING_DATA/db1.okc...\n",
      "Trying to read the file at ORIGINAL_TRAINING_DATA/db1.okc...\n",
      "Trying to obtain the range of variables of the file at ORIGINAL_TRAINING_DATA/db1.okc...\n",
      "Trying to obtain the number of grid points of the file at ORIGINAL_TRAINING_DATA/db1.okc...\n",
      "Obtained variable ranges of the file at ORIGINAL_TRAINING_DATA/db1.okc.\n",
      "Finished mapping this data to your specified resolution.\n",
      "Regularizing parameters...\n",
      "Finished regularizing this data.\n",
      "Regularizing parameters...\n",
      "Finished regularizing this data.\n",
      "Regularizing parameters...\n",
      "Finished regularizing this data.\n",
      "Converting the temperature data to multi-dimensional array...\n",
      "Finished converting.\n",
      "Calculating the gradient of temperature...\n",
      "Finished calculating gradient.\n",
      "Converting the velocity_magnitude data to multi-dimensional array...\n",
      "Finished converting.\n",
      "Calculating the gradient of velocity_magnitude...\n",
      "Finished calculating gradient.\n",
      "Converting the z_velocity data to multi-dimensional array...\n",
      "Finished converting.\n",
      "Calculating the gradient of z_velocity...\n",
      "Finished calculating gradient.\n",
      "Trying to open the file at ORIGINAL_TRAINING_DATA/db2.okc...\n",
      "Trying to read the file at ORIGINAL_TRAINING_DATA/db2.okc...\n",
      "Trying to obtain the range of variables of the file at ORIGINAL_TRAINING_DATA/db2.okc...\n",
      "Trying to obtain the number of grid points of the file at ORIGINAL_TRAINING_DATA/db2.okc...\n",
      "Obtained variable ranges of the file at ORIGINAL_TRAINING_DATA/db2.okc.\n",
      "Trying to determine if the data is sliced...\n",
      "This data is sliced.\n",
      "Trying to open the file at ORIGINAL_TRAINING_DATA/db2.okc...\n",
      "Trying to read the file at ORIGINAL_TRAINING_DATA/db2.okc...\n",
      "Trying to obtain the range of variables of the file at ORIGINAL_TRAINING_DATA/db2.okc...\n",
      "Trying to obtain the number of grid points of the file at ORIGINAL_TRAINING_DATA/db2.okc...\n",
      "Obtained variable ranges of the file at ORIGINAL_TRAINING_DATA/db2.okc.\n",
      "Obtain the time for this data.\n",
      "Trying to open the file at ORIGINAL_TRAINING_DATA/db2.okc...\n",
      "Trying to read the file at ORIGINAL_TRAINING_DATA/db2.okc...\n",
      "Trying to obtain the range of variables of the file at ORIGINAL_TRAINING_DATA/db2.okc...\n",
      "Trying to obtain the number of grid points of the file at ORIGINAL_TRAINING_DATA/db2.okc...\n",
      "Obtained variable ranges of the file at ORIGINAL_TRAINING_DATA/db2.okc.\n",
      "Finished mapping this data to your specified resolution.\n",
      "Regularizing parameters...\n",
      "Finished regularizing this data.\n",
      "Regularizing parameters...\n",
      "Finished regularizing this data.\n",
      "Regularizing parameters...\n",
      "Finished regularizing this data.\n",
      "Converting the temperature data to multi-dimensional array...\n",
      "Finished converting.\n",
      "Calculating the gradient of temperature...\n",
      "Finished calculating gradient.\n",
      "Converting the velocity_magnitude data to multi-dimensional array...\n",
      "Finished converting.\n",
      "Calculating the gradient of velocity_magnitude...\n",
      "Finished calculating gradient.\n",
      "Converting the z_velocity data to multi-dimensional array...\n",
      "Finished converting.\n",
      "Calculating the gradient of z_velocity...\n",
      "Finished calculating gradient.\n"
     ]
    }
   ],
   "source": [
    "\n",
    "# Because the training dataset are individual, the list of each data just contain themselves.\n",
    "data1 = analyzer.Data(\"ORIGINAL_TRAINING_DATA/db1.okc\", [\"ORIGINAL_TRAINING_DATA/db1.okc\"], resolution) \n",
    "data2 = analyzer.Data(\"ORIGINAL_TRAINING_DATA/db2.okc\", [\"ORIGINAL_TRAINING_DATA/db2.okc\"], resolution)"
   ]
  },
  {
   "cell_type": "markdown",
   "metadata": {},
   "source": [
    "# Training The Model"
   ]
  },
  {
   "cell_type": "code",
   "execution_count": 26,
   "metadata": {},
   "outputs": [
    {
     "name": "stdout",
     "output_type": "stream",
     "text": [
      "Normalizing gradient datas...\n",
      "Rearranging data to tensor for model classification...\n",
      "Obtained regularized tensor.\n",
      "Normalizing gradient datas...\n",
      "Rearranging data to tensor for model classification...\n",
      "Obtained regularized tensor.\n",
      "Epoch 1/10\n",
      "40/40 [==============================] - 0s 3ms/step - loss: 0.1269\n",
      "Epoch 2/10\n",
      "40/40 [==============================] - 0s 3ms/step - loss: 0.0952\n",
      "Epoch 3/10\n",
      "40/40 [==============================] - 0s 3ms/step - loss: 0.0949\n",
      "Epoch 4/10\n",
      "40/40 [==============================] - 0s 3ms/step - loss: 0.0949\n",
      "Epoch 5/10\n",
      "40/40 [==============================] - 0s 3ms/step - loss: 0.0948\n",
      "Epoch 6/10\n",
      "40/40 [==============================] - 0s 3ms/step - loss: 0.0949\n",
      "Epoch 7/10\n",
      "40/40 [==============================] - 0s 3ms/step - loss: 0.0954\n",
      "Epoch 8/10\n",
      "40/40 [==============================] - 0s 3ms/step - loss: 0.0948\n",
      "Epoch 9/10\n",
      "40/40 [==============================] - 0s 3ms/step - loss: 0.0950\n",
      "Epoch 10/10\n",
      "40/40 [==============================] - 0s 3ms/step - loss: 0.0952\n",
      "Epoch 1/10\n",
      "40/40 [==============================] - 0s 3ms/step - loss: 0.0947\n",
      "Epoch 2/10\n",
      "40/40 [==============================] - 0s 2ms/step - loss: 0.0950\n",
      "Epoch 3/10\n",
      "40/40 [==============================] - 0s 3ms/step - loss: 0.0949\n",
      "Epoch 4/10\n",
      "40/40 [==============================] - 0s 3ms/step - loss: 0.0947\n",
      "Epoch 5/10\n",
      "40/40 [==============================] - 0s 3ms/step - loss: 0.0951\n",
      "Epoch 6/10\n",
      "40/40 [==============================] - 0s 3ms/step - loss: 0.0951\n",
      "Epoch 7/10\n",
      "40/40 [==============================] - 0s 3ms/step - loss: 0.0946\n",
      "Epoch 8/10\n",
      "40/40 [==============================] - 0s 3ms/step - loss: 0.0946\n",
      "Epoch 9/10\n",
      "40/40 [==============================] - 0s 3ms/step - loss: 0.0948\n",
      "Epoch 10/10\n",
      "40/40 [==============================] - 0s 3ms/step - loss: 0.0952\n"
     ]
    }
   ],
   "source": [
    "# Run this section if you want to use NN model\n",
    "\n",
    "array1, headers1, non_nan_indices1, num_grids1 = nn.data_arranger(data1.df)\n",
    "array2, headers2, non_nan_indices2, num_grids2 = nn.data_arranger(data2.df)\n",
    "\n",
    "# The learning rate, batch size, and epochs are proven to be working.\n",
    "\n",
    "nn_model = nn.model_create_compile(headers1, 0.05)\n",
    "\n",
    "nn_model, loss_hist = nn.model_train(nn_model, array1, 1000, 10)\n",
    "nn_model, loss_hist = nn.model_train(nn_model, array2, 1000, 10)"
   ]
  },
  {
   "cell_type": "code",
   "execution_count": 6,
   "metadata": {},
   "outputs": [
    {
     "name": "stdout",
     "output_type": "stream",
     "text": [
      "Normalizing gradient data...\n",
      "Converting the data to tensor...\n",
      "Finished converting.\n",
      "Normalizing gradient data...\n",
      "Converting the data to tensor...\n",
      "Finished converting.\n",
      "Epoch 1/3\n",
      "1/1 [==============================] - 1s 743ms/step - loss: 0.5051\n",
      "Epoch 2/3\n",
      "1/1 [==============================] - 0s 14ms/step - loss: 0.4649\n",
      "Epoch 3/3\n",
      "1/1 [==============================] - 0s 13ms/step - loss: 0.4158\n",
      "Epoch 1/3\n",
      "1/1 [==============================] - 0s 15ms/step - loss: 0.3440\n",
      "Epoch 2/3\n",
      "1/1 [==============================] - 0s 13ms/step - loss: 0.2663\n",
      "Epoch 3/3\n",
      "1/1 [==============================] - 0s 12ms/step - loss: 0.1929\n"
     ]
    }
   ],
   "source": [
    "# Run this section if you want to use CNN model\n",
    "\n",
    "array1, headers1, indices1 = cnn.data_arranger(data1.df, resolution)\n",
    "array2, headers2, indices2 = cnn.data_arranger(data2.df, resolution)\n",
    "\n",
    "# The learning rate and epochs are proven to be working.\n",
    "\n",
    "cnn_model = cnn.model_2D_create_compile(headers1, 0.05, resolution)\n",
    "\n",
    "cnn_model, loss_hist = cnn.model_2D_train(cnn_model, array1, 3)\n",
    "cnn_model, loss_hist = cnn.model_2D_train(cnn_model, array2, 3)"
   ]
  },
  {
   "cell_type": "markdown",
   "metadata": {},
   "source": [
    "# Data Classification"
   ]
  },
  {
   "cell_type": "markdown",
   "metadata": {},
   "source": [
    "Choose codes from these 3 codes below to run if you want to classify few individual data."
   ]
  },
  {
   "cell_type": "code",
   "execution_count": 5,
   "metadata": {},
   "outputs": [
    {
     "name": "stdout",
     "output_type": "stream",
     "text": [
      "Trying to open the file at ORIGINAL_TRAINING_DATA/db3.okc...\n",
      "Trying to read the file at ORIGINAL_TRAINING_DATA/db3.okc...\n",
      "Trying to obtain the range of variables of the file at ORIGINAL_TRAINING_DATA/db3.okc...\n",
      "Trying to obtain the number of grid points of the file at ORIGINAL_TRAINING_DATA/db3.okc...\n",
      "Obtained variable ranges of the file at ORIGINAL_TRAINING_DATA/db3.okc.\n",
      "Trying to determine if the data is sliced...\n",
      "This data is sliced.\n",
      "Trying to open the file at ORIGINAL_TRAINING_DATA/db3.okc...\n",
      "Trying to read the file at ORIGINAL_TRAINING_DATA/db3.okc...\n",
      "Trying to obtain the range of variables of the file at ORIGINAL_TRAINING_DATA/db3.okc...\n",
      "Trying to obtain the number of grid points of the file at ORIGINAL_TRAINING_DATA/db3.okc...\n",
      "Obtained variable ranges of the file at ORIGINAL_TRAINING_DATA/db3.okc.\n",
      "Obtain the time for this data.\n",
      "Trying to open the file at ORIGINAL_TRAINING_DATA/db3.okc...\n",
      "Trying to read the file at ORIGINAL_TRAINING_DATA/db3.okc...\n",
      "Trying to obtain the range of variables of the file at ORIGINAL_TRAINING_DATA/db3.okc...\n",
      "Trying to obtain the number of grid points of the file at ORIGINAL_TRAINING_DATA/db3.okc...\n",
      "Obtained variable ranges of the file at ORIGINAL_TRAINING_DATA/db3.okc.\n",
      "Finished mapping this data to your specified resolution.\n",
      "Regularizing parameters...\n",
      "Finished regularizing this data.\n",
      "Regularizing parameters...\n",
      "Finished regularizing this data.\n",
      "Regularizing parameters...\n",
      "Finished regularizing this data.\n",
      "Converting the temperature data to multi-dimensional array...\n",
      "Finished converting.\n",
      "Calculating the gradient of temperature...\n",
      "Finished calculating gradient.\n",
      "Converting the velocity_magnitude data to multi-dimensional array...\n",
      "Finished converting.\n",
      "Calculating the gradient of velocity_magnitude...\n",
      "Finished calculating gradient.\n",
      "Converting the z_velocity data to multi-dimensional array...\n",
      "Finished converting.\n",
      "Calculating the gradient of z_velocity...\n",
      "Finished calculating gradient.\n"
     ]
    }
   ],
   "source": [
    "data3 = analyzer.Data(\"ORIGINAL_TRAINING_DATA/db3.okc\", [\"ORIGINAL_TRAINING_DATA/db3.okc\"], resolution)"
   ]
  },
  {
   "cell_type": "code",
   "execution_count": 6,
   "metadata": {},
   "outputs": [
    {
     "name": "stdout",
     "output_type": "stream",
     "text": [
      "Normalizing gradient datas...\n",
      "Rearranging data to tensor for model classification...\n",
      "Obtained regularized tensor.\n",
      "Finished classifying data.\n"
     ]
    }
   ],
   "source": [
    "# Run this code if your model choice is NN\n",
    "array3, headers3, non_nan_indices3, num_grids3 = nn.data_arranger(data3.df)\n",
    "data3.df = nn.model_classification(nn_model, array3, non_nan_indices3, num_grids3, data3.df, False)"
   ]
  },
  {
   "cell_type": "code",
   "execution_count": 9,
   "metadata": {},
   "outputs": [
    {
     "name": "stdout",
     "output_type": "stream",
     "text": [
      "Normalizing gradient data...\n",
      "Converting the data to tensor...\n",
      "Finished converting.\n",
      "Finished classifying data.\n"
     ]
    }
   ],
   "source": [
    "# Run this code if your model choice is CNN\n",
    "array3, headers3, indices3 = cnn.data_arranger(data3.df, resolution)\n",
    "data3.df = cnn.model_2D_classification(cnn_model, array3, indices3, data3.df, False)"
   ]
  },
  {
   "cell_type": "markdown",
   "metadata": {},
   "source": [
    "Choose codes from these 3 codes below to run if you want to classify a series of data."
   ]
  },
  {
   "cell_type": "code",
   "execution_count": 22,
   "metadata": {},
   "outputs": [
    {
     "name": "stdout",
     "output_type": "stream",
     "text": [
      "Trying to open the file at TEST_VIDEO/db_Y_0090.okc...\n",
      "Trying to read the file at TEST_VIDEO/db_Y_0090.okc...\n",
      "Trying to obtain the range of variables of the file at TEST_VIDEO/db_Y_0090.okc...\n",
      "Trying to obtain the number of grid points of the file at TEST_VIDEO/db_Y_0090.okc...\n",
      "Obtained variable ranges of the file at TEST_VIDEO/db_Y_0090.okc.\n",
      "Trying to determine if the data is sliced...\n",
      "This data is sliced.\n",
      "Trying to open the file at TEST_VIDEO/db_Y_0090.okc...\n",
      "Trying to read the file at TEST_VIDEO/db_Y_0090.okc...\n",
      "Trying to obtain the range of variables of the file at TEST_VIDEO/db_Y_0090.okc...\n",
      "Trying to obtain the number of grid points of the file at TEST_VIDEO/db_Y_0090.okc...\n",
      "Obtained variable ranges of the file at TEST_VIDEO/db_Y_0090.okc.\n",
      "Obtain the time for this data.\n",
      "Trying to open the file at TEST_VIDEO/db_Y_0090.okc...\n",
      "Trying to read the file at TEST_VIDEO/db_Y_0090.okc...\n",
      "Trying to obtain the range of variables of the file at TEST_VIDEO/db_Y_0090.okc...\n",
      "Trying to obtain the number of grid points of the file at TEST_VIDEO/db_Y_0090.okc...\n",
      "Obtained variable ranges of the file at TEST_VIDEO/db_Y_0090.okc.\n",
      "Finished mapping this data to your specified resolution.\n",
      "Regularizing parameters...\n",
      "Finished regularizing this data.\n",
      "Regularizing parameters...\n",
      "Finished regularizing this data.\n",
      "Regularizing parameters...\n",
      "Finished regularizing this data.\n",
      "Converting the temperature data to multi-dimensional array...\n",
      "Finished converting.\n",
      "Calculating the gradient of temperature...\n",
      "Finished calculating gradient.\n",
      "Converting the velocity_magnitude data to multi-dimensional array...\n",
      "Finished converting.\n",
      "Calculating the gradient of velocity_magnitude...\n",
      "Finished calculating gradient.\n",
      "Converting the z_velocity data to multi-dimensional array...\n",
      "Finished converting.\n",
      "Calculating the gradient of z_velocity...\n",
      "Finished calculating gradient.\n",
      "Trying to open the file at TEST_VIDEO/db_Y_0090.okc...\n",
      "Trying to read the file at TEST_VIDEO/db_Y_0090.okc...\n",
      "Trying to obtain the range of variables of the file at TEST_VIDEO/db_Y_0090.okc...\n",
      "Trying to obtain the number of grid points of the file at TEST_VIDEO/db_Y_0090.okc...\n",
      "Obtained variable ranges of the file at TEST_VIDEO/db_Y_0090.okc.\n",
      "Trying to determine if the data is sliced...\n",
      "This data is sliced.\n",
      "Trying to open the file at TEST_VIDEO/db_Y_0091.okc...\n",
      "Trying to read the file at TEST_VIDEO/db_Y_0091.okc...\n",
      "Trying to obtain the range of variables of the file at TEST_VIDEO/db_Y_0091.okc...\n",
      "Trying to obtain the number of grid points of the file at TEST_VIDEO/db_Y_0091.okc...\n",
      "Obtained variable ranges of the file at TEST_VIDEO/db_Y_0091.okc.\n",
      "Obtain the time for this data.\n",
      "Trying to open the file at TEST_VIDEO/db_Y_0091.okc...\n",
      "Trying to read the file at TEST_VIDEO/db_Y_0091.okc...\n",
      "Trying to obtain the range of variables of the file at TEST_VIDEO/db_Y_0091.okc...\n",
      "Trying to obtain the number of grid points of the file at TEST_VIDEO/db_Y_0091.okc...\n",
      "Obtained variable ranges of the file at TEST_VIDEO/db_Y_0091.okc.\n",
      "Finished mapping this data to your specified resolution.\n",
      "Regularizing parameters...\n",
      "Finished regularizing this data.\n",
      "Regularizing parameters...\n",
      "Finished regularizing this data.\n",
      "Regularizing parameters...\n",
      "Finished regularizing this data.\n",
      "Converting the temperature data to multi-dimensional array...\n",
      "Finished converting.\n",
      "Calculating the gradient of temperature...\n",
      "Finished calculating gradient.\n",
      "Converting the velocity_magnitude data to multi-dimensional array...\n",
      "Finished converting.\n",
      "Calculating the gradient of velocity_magnitude...\n",
      "Finished calculating gradient.\n",
      "Converting the z_velocity data to multi-dimensional array...\n",
      "Finished converting.\n",
      "Calculating the gradient of z_velocity...\n",
      "Finished calculating gradient.\n"
     ]
    }
   ],
   "source": [
    "list_paths_classify = [f\"TEST_VIDEO/db_Y_{i:04d}.okc\" for i in range(90, 92)]\n",
    "\n",
    "Data_classify = [analyzer.Data(path, list_paths_classify, resolution) for path in list_paths_classify] "
   ]
  },
  {
   "cell_type": "code",
   "execution_count": 27,
   "metadata": {},
   "outputs": [
    {
     "name": "stdout",
     "output_type": "stream",
     "text": [
      "Normalizing gradient datas...\n",
      "Rearranging data to tensor for model classification...\n",
      "Obtained regularized tensor.\n",
      "Finished classifying data.\n",
      "Normalizing gradient datas...\n",
      "Rearranging data to tensor for model classification...\n",
      "Obtained regularized tensor.\n",
      "Finished classifying data.\n"
     ]
    }
   ],
   "source": [
    "# Run this code if your model choice is NN\n",
    "for data in Data_classify:\n",
    "    array, headers, non_nan_indices, num_grids = nn.data_arranger(data.df)\n",
    "    data.df = nn.model_classification(nn_model, array, non_nan_indices, num_grids, data.df, False)"
   ]
  },
  {
   "cell_type": "code",
   "execution_count": 15,
   "metadata": {},
   "outputs": [
    {
     "name": "stdout",
     "output_type": "stream",
     "text": [
      "Normalizing gradient data...\n",
      "Converting the data to tensor...\n",
      "Finished converting.\n",
      "Finished classifying data.\n",
      "Normalizing gradient data...\n",
      "Converting the data to tensor...\n",
      "Finished converting.\n",
      "Finished classifying data.\n"
     ]
    }
   ],
   "source": [
    "# Run this code if your model choice is CNN\n",
    "for data in Data_classify:\n",
    "    array, headers, indices = cnn.data_arranger(data.df, data.resolution)\n",
    "    data.df = cnn.model_2D_classification(cnn_model, array, indices, data.df, False)"
   ]
  },
  {
   "cell_type": "markdown",
   "metadata": {},
   "source": [
    "# Data Export"
   ]
  },
  {
   "cell_type": "markdown",
   "metadata": {},
   "source": [
    "Choose codes from these 2 codes below to run if you want to classify few individual data."
   ]
  },
  {
   "cell_type": "code",
   "execution_count": 10,
   "metadata": {},
   "outputs": [],
   "source": [
    "# Run this code to export the image\n",
    "visualizer.plot_2D_df(data3.df, 'is_boundary', 'classification.png')"
   ]
  },
  {
   "cell_type": "code",
   "execution_count": null,
   "metadata": {},
   "outputs": [],
   "source": [
    "# Run this code to export the csv file\n",
    "data3.df.to_csv('classification.csv', index=False)"
   ]
  },
  {
   "cell_type": "markdown",
   "metadata": {},
   "source": [
    "Choose codes from these 2 codes below to run if you want to classify a series of data."
   ]
  },
  {
   "cell_type": "code",
   "execution_count": 28,
   "metadata": {},
   "outputs": [],
   "source": [
    "# Run this code to export the image\n",
    "for i, data in enumerate(Data_classify):\n",
    "    visualizer.plot_2D_df(data.df, 'is_boundary', f'classification_{i}.png')"
   ]
  },
  {
   "cell_type": "code",
   "execution_count": 25,
   "metadata": {},
   "outputs": [],
   "source": [
    "# Run this code to export the csv file\n",
    "for i, data in enumerate(Data_classify):\n",
    "    data.df.to_csv(f'classification_{i}.csv', index=False)"
   ]
  }
 ],
 "metadata": {
  "kernelspec": {
   "display_name": ".venv",
   "language": "python",
   "name": "python3"
  },
  "language_info": {
   "codemirror_mode": {
    "name": "ipython",
    "version": 3
   },
   "file_extension": ".py",
   "mimetype": "text/x-python",
   "name": "python",
   "nbconvert_exporter": "python",
   "pygments_lexer": "ipython3",
   "version": "3.6.8"
  }
 },
 "nbformat": 4,
 "nbformat_minor": 2
}
