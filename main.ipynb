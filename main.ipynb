{
 "cells": [
  {
   "cell_type": "code",
   "execution_count": 9,
   "metadata": {},
   "outputs": [],
   "source": [
    "import pandas as pd\n",
    "import numpy as np\n",
    "\n",
    "import visualizer as vs\n",
    "import convolutional_neural_network as cnn"
   ]
  },
  {
   "cell_type": "code",
   "execution_count": 10,
   "metadata": {},
   "outputs": [
    {
     "name": "stdout",
     "output_type": "stream",
     "text": [
      "Normalizing gradient datas...\n",
      "Rearranging data to tensor for model classification...\n",
      "Obtained regularized tensor.\n"
     ]
    }
   ],
   "source": [
    "data = pd.read_csv(\"ORIGINAL_TRAINING_DATA/GRADIENTS/data1.csv\")\n",
    "array, headers = cnn.data_arranger(data, [200,200])"
   ]
  },
  {
   "cell_type": "code",
   "execution_count": 11,
   "metadata": {},
   "outputs": [
    {
     "data": {
      "text/plain": [
       "array([[[2.09833997e-01, 2.06857406e-01, 2.01575755e-01, ...,\n",
       "         4.05331830e-01,            nan,            nan],\n",
       "        [2.11450798e-01, 2.08509303e-01, 2.03703786e-01, ...,\n",
       "         4.17559762e-01,            nan,            nan],\n",
       "        [2.13258443e-01, 2.12125067e-01, 2.07482178e-01, ...,\n",
       "         4.51766337e-01,            nan,            nan],\n",
       "        ...,\n",
       "        [3.70074197e-01, 3.62557606e-01, 3.42386091e-01, ...,\n",
       "         3.71420416e-01,            nan,            nan],\n",
       "        [           nan,            nan,            nan, ...,\n",
       "                    nan,            nan,            nan],\n",
       "        [           nan,            nan,            nan, ...,\n",
       "                    nan,            nan,            nan]],\n",
       "\n",
       "       [[0.00000000e+00, 1.00877964e-01, 1.41926021e-01, ...,\n",
       "         2.20613803e-01,            nan,            nan],\n",
       "        [1.02222339e-01, 9.19552343e-02, 1.22940707e-01, ...,\n",
       "         1.81398384e-01,            nan,            nan],\n",
       "        [1.47302387e-01, 1.23915992e-01, 1.20866311e-01, ...,\n",
       "         1.74905406e-01,            nan,            nan],\n",
       "        ...,\n",
       "        [1.16307580e-01, 1.12942015e-01, 1.13281776e-01, ...,\n",
       "         1.68608462e-01,            nan,            nan],\n",
       "        [           nan,            nan,            nan, ...,\n",
       "                    nan,            nan,            nan],\n",
       "        [           nan,            nan,            nan, ...,\n",
       "                    nan,            nan,            nan]],\n",
       "\n",
       "       [[0.00000000e+00, 4.70952150e-04, 5.23303856e-04, ...,\n",
       "         6.96523353e-03,            nan,            nan],\n",
       "        [6.54063383e-04, 1.56411540e-03, 5.58757265e-03, ...,\n",
       "         1.47105783e-02,            nan,            nan],\n",
       "        [2.08806382e-04, 4.67488174e-03, 9.46138922e-03, ...,\n",
       "         1.76274805e-02,            nan,            nan],\n",
       "        ...,\n",
       "        [5.51534703e-04, 2.68545532e-02, 5.24496577e-02, ...,\n",
       "         1.61247921e-01,            nan,            nan],\n",
       "        [           nan,            nan,            nan, ...,\n",
       "                    nan,            nan,            nan],\n",
       "        [           nan,            nan,            nan, ...,\n",
       "                    nan,            nan,            nan]]])"
      ]
     },
     "execution_count": 11,
     "metadata": {},
     "output_type": "execute_result"
    }
   ],
   "source": [
    "array"
   ]
  },
  {
   "cell_type": "code",
   "execution_count": 13,
   "metadata": {},
   "outputs": [],
   "source": [
    "test_input = np.array([\n",
    "    [\n",
    "        [0.4, 0.1],\n",
    "        [0.8, 0.2]\n",
    "    ],\n",
    "    [\n",
    "        [0.4, 0.8],\n",
    "        [0.1, 0.9]\n",
    "    ],\n",
    "    [\n",
    "        [0.8, 0.2],\n",
    "        [0.5, 0.6]\n",
    "    ]\n",
    "])\n",
    "test_classification =  np.array([\n",
    "    [0.2, 0.1],\n",
    "    [0.7, 0.9]\n",
    "])\n",
    "header_list = ['temperature_gradient', 'velocity_magnitude_gradient','z_velocity_gradient']"
   ]
  },
  {
   "cell_type": "code",
   "execution_count": 16,
   "metadata": {},
   "outputs": [
    {
     "ename": "AttributeError",
     "evalue": "'list' object has no attribute 'shape'",
     "output_type": "error",
     "traceback": [
      "\u001b[0;31m---------------------------------------------------------------------------\u001b[0m",
      "\u001b[0;31mAttributeError\u001b[0m                            Traceback (most recent call last)",
      "\u001b[0;32m<ipython-input-16-4f800f93c736>\u001b[0m in \u001b[0;36m<module>\u001b[0;34m\u001b[0m\n\u001b[0;32m----> 1\u001b[0;31m \u001b[0mloss\u001b[0m \u001b[0;34m=\u001b[0m \u001b[0mcnn\u001b[0m\u001b[0;34m.\u001b[0m\u001b[0mloss_function\u001b[0m\u001b[0;34m(\u001b[0m\u001b[0mtest_input\u001b[0m\u001b[0;34m,\u001b[0m\u001b[0mheader_list\u001b[0m\u001b[0;34m,\u001b[0m \u001b[0mtest_classification\u001b[0m\u001b[0;34m)\u001b[0m\u001b[0;34m\u001b[0m\u001b[0;34m\u001b[0m\u001b[0m\n\u001b[0m",
      "\u001b[0;32m/net/fs01.cluster.com/home/wtian/PlumeCNN/convolutional_neural_network.py\u001b[0m in \u001b[0;36mloss_function\u001b[0;34m(data, header, classification)\u001b[0m\n\u001b[1;32m    107\u001b[0m \u001b[0;34m\u001b[0m\u001b[0m\n\u001b[1;32m    108\u001b[0m     \u001b[0;31m# Extract the gradient values from the data tensor\u001b[0m\u001b[0;34m\u001b[0m\u001b[0;34m\u001b[0m\u001b[0;34m\u001b[0m\u001b[0m\n\u001b[0;32m--> 109\u001b[0;31m     \u001b[0;32mif\u001b[0m \u001b[0mlen\u001b[0m\u001b[0;34m(\u001b[0m\u001b[0mdata\u001b[0m\u001b[0;34m.\u001b[0m\u001b[0mshape\u001b[0m\u001b[0;34m)\u001b[0m \u001b[0;34m==\u001b[0m \u001b[0;36m3\u001b[0m\u001b[0;34m:\u001b[0m \u001b[0;31m# 2D\u001b[0m\u001b[0;34m\u001b[0m\u001b[0;34m\u001b[0m\u001b[0m\n\u001b[0m\u001b[1;32m    110\u001b[0m         \u001b[0mtemperature_gradient\u001b[0m \u001b[0;34m=\u001b[0m \u001b[0mdata\u001b[0m\u001b[0;34m[\u001b[0m\u001b[0mtemp_grad_idx\u001b[0m\u001b[0;34m,\u001b[0m \u001b[0;34m:\u001b[0m\u001b[0;34m,\u001b[0m \u001b[0;34m:\u001b[0m\u001b[0;34m]\u001b[0m\u001b[0;34m\u001b[0m\u001b[0;34m\u001b[0m\u001b[0m\n\u001b[1;32m    111\u001b[0m         \u001b[0mvelocity_magnitude_gradient\u001b[0m \u001b[0;34m=\u001b[0m \u001b[0mdata\u001b[0m\u001b[0;34m[\u001b[0m\u001b[0mvel_mag_grad_idx\u001b[0m\u001b[0;34m,\u001b[0m \u001b[0;34m:\u001b[0m\u001b[0;34m,\u001b[0m \u001b[0;34m:\u001b[0m\u001b[0;34m]\u001b[0m\u001b[0;34m\u001b[0m\u001b[0;34m\u001b[0m\u001b[0m\n",
      "\u001b[0;31mAttributeError\u001b[0m: 'list' object has no attribute 'shape'"
     ]
    }
   ],
   "source": [
    "loss = cnn.loss_function(test_input,header_list, test_classification)"
   ]
  }
 ],
 "metadata": {
  "kernelspec": {
   "display_name": ".venv",
   "language": "python",
   "name": "python3"
  },
  "language_info": {
   "codemirror_mode": {
    "name": "ipython",
    "version": 3
   },
   "file_extension": ".py",
   "mimetype": "text/x-python",
   "name": "python",
   "nbconvert_exporter": "python",
   "pygments_lexer": "ipython3",
   "version": "3.6.8"
  }
 },
 "nbformat": 4,
 "nbformat_minor": 2
}
