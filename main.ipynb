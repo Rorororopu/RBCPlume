{
 "cells": [
  {
   "cell_type": "code",
   "execution_count": 1,
   "metadata": {},
   "outputs": [],
   "source": [
    "import numpy as np"
   ]
  },
  {
   "cell_type": "code",
   "execution_count": 2,
   "metadata": {},
   "outputs": [],
   "source": [
    "import keras.layers\n",
    "import tensorflow as tf\n",
    "import keras.backend as K\n",
    "import keras.optimizers"
   ]
  },
  {
   "cell_type": "code",
   "execution_count": 3,
   "metadata": {},
   "outputs": [],
   "source": [
    "def loss_function_NN(data:tf.Tensor, header:list, classification:tf.Tensor) -> tf.Tensor:\n",
    "    '''\n",
    "    The function to calculate and tell the model how bad it performs prediction.\n",
    "\n",
    "    Args: \n",
    "        data: a tensor(tensorflow will automatically convert numpy array to tensorflow array),\n",
    "        recording the data of a batch. 1st index represents a data point, 2nd index represents\n",
    "        the values of each column at that grid point\n",
    "\n",
    "        header: a list storing the name of variables telling how variable temperature_gradient,\n",
    "        velocity_magnitude_gradient, z_velocity_gradient are correlated the 2nd index of the data.\n",
    "\n",
    "        classification: a 1D tensor, storing classification results between 0-1 for each grid points for this batch.\n",
    "\n",
    "    Returns: \n",
    "        loss: a SCALAR(single-value) tensor representing how bad a model predicts in a batch. A point with\n",
    "        high gradient and low classification value, or low gradient and high classification value will contribute\n",
    "        to higher loss. The loss wil also be high if the classificaition is close to 0.5, to encourage certain classification results.\n",
    "    '''\n",
    "    # Extract the indices of the gradients from the header\n",
    "    temp_grad_idx = header.index('temperature_gradient')\n",
    "    vel_mag_grad_idx = header.index('velocity_magnitude_gradient')\n",
    "    z_vel_grad_idx = header.index('z_velocity_gradient')\n",
    "\n",
    "    # Extract the gradient values from the data tensor\n",
    "    temperature_gradient = data[:, temp_grad_idx]\n",
    "    velocity_magnitude_gradient = data[:, vel_mag_grad_idx]\n",
    "    z_velocity_gradient = data[:, z_vel_grad_idx]\n",
    "\n",
    "    # Calculate the primary gradient loss\n",
    "    gradient_sum = temperature_gradient + velocity_magnitude_gradient + z_velocity_gradient\n",
    "    loss_high_class_low_grad = classification * (1 - gradient_sum)\n",
    "    loss_low_class_high_grad = (1 - classification) * gradient_sum\n",
    "\n",
    "    primary_loss = tf.reduce_mean(loss_high_class_low_grad + loss_low_class_high_grad)\n",
    "    \n",
    "    # Add regularization loss to encourage certain properties in classification\n",
    "    regularization_loss = tf.reduce_mean(tf.square(classification - 0.5))\n",
    "    \n",
    "    # Total loss\n",
    "    loss = primary_loss + regularization_loss\n",
    "\n",
    "    return loss"
   ]
  },
  {
   "cell_type": "code",
   "execution_count": 4,
   "metadata": {},
   "outputs": [],
   "source": [
    "class CustomMasking(keras.layers.Layer):\n",
    "    '''\n",
    "    Add a mask(Boolean mark) for points with NaN values.\n",
    "    '''\n",
    "    def __init__(self, mask_value=np.nan, **kwargs):\n",
    "        super(CustomMasking, self).__init__(**kwargs)\n",
    "        self.mask_value = mask_value\n",
    "\n",
    "    def build(self, input_shape):\n",
    "        super(CustomMasking, self).build(input_shape)\n",
    "\n",
    "    def call(self, inputs):\n",
    "        mask = K.not_equal(inputs, self.mask_value)\n",
    "        return tf.convert_to_tensor(K.switch(mask, inputs, K.constant(np.nan, dtype=inputs.dtype)))\n",
    "\n",
    "    def compute_output_shape(self, input_shape):\n",
    "        return input_shape"
   ]
  },
  {
   "cell_type": "code",
   "execution_count": 5,
   "metadata": {},
   "outputs": [],
   "source": [
    "class NaNHandlingLayer(keras.layers.Layer):\n",
    "    '''\n",
    "    Let points with NaN values have NaN classification result.\n",
    "    '''\n",
    "    def call(self, inputs):\n",
    "        non_nan_mask = tf.math.logical_not(tf.math.is_nan(inputs))\n",
    "        outputs = tf.convert_to_tensor(tf.where(non_nan_mask, inputs, tf.constant(np.nan, dtype=inputs.dtype)))\n",
    "        return outputs"
   ]
  },
  {
   "cell_type": "code",
   "execution_count": 6,
   "metadata": {},
   "outputs": [],
   "source": [
    "header = ['temperature_gradient','velocity_magnitude_gradient','z_velocity_gradient']"
   ]
  },
  {
   "cell_type": "code",
   "execution_count": 23,
   "metadata": {},
   "outputs": [],
   "source": [
    "input = np.array([\n",
    "    [0.9, 0.5, 0.4],\n",
    "    [0.7, 0.3, 0.5],\n",
    "    [np.nan, np.nan, np.nan],\n",
    "    [0.1, 0.4, 0.5],\n",
    "    [0.2, 0.6, 0.1],\n",
    "    [0.9, 0.8, 0.5],\n",
    "    [np.nan, np.nan, np.nan],\n",
    "    [0.3, 0.5, 0.1]\n",
    "])"
   ]
  },
  {
   "cell_type": "code",
   "execution_count": 24,
   "metadata": {},
   "outputs": [
    {
     "name": "stdout",
     "output_type": "stream",
     "text": [
      "Epoch 1/2\n",
      "8/8 [==============================] - 0s 1ms/step - loss: nan\n",
      "Epoch 2/2\n",
      "8/8 [==============================] - 0s 1ms/step - loss: nan\n"
     ]
    }
   ],
   "source": [
    "class CustomModel(tf.keras.Model):\n",
    "    def __init__(self, header):\n",
    "        super(CustomModel, self).__init__()\n",
    "        self.header = header\n",
    "        self.masking = CustomMasking(mask_value=np.nan)\n",
    "        self.nan_handling = NaNHandlingLayer()\n",
    "        self.dense1 = keras.layers.Dense(len(header), activation='relu')\n",
    "        self.bn1 = keras.layers.BatchNormalization()\n",
    "        self.dense2 = keras.layers.Dense(len(header), activation='relu')\n",
    "        self.bn2 = keras.layers.BatchNormalization()\n",
    "        self.dense3 = keras.layers.Dense(len(header), activation='relu')\n",
    "        self.output_layer = keras.layers.Dense(1, activation='sigmoid')\n",
    "\n",
    "    def call(self, inputs):\n",
    "        x = self.masking(inputs)\n",
    "        x = self.nan_handling(x)\n",
    "        x = self.dense1(x)\n",
    "        x = self.bn1(x)\n",
    "        x = self.dense2(x)\n",
    "        x = self.bn2(x)\n",
    "        x = self.dense3(x)\n",
    "        return self.output_layer(x)\n",
    "\n",
    "    def train_step(self, data):\n",
    "        if isinstance(data, tuple):\n",
    "            x = data[0]\n",
    "        else:\n",
    "            x = data\n",
    "        \n",
    "        with tf.GradientTape() as tape:\n",
    "            y_pred = self(x, training=True)\n",
    "            loss = loss_function_NN(x, self.header, y_pred)\n",
    "        \n",
    "        trainable_vars = self.trainable_variables\n",
    "        gradients = tape.gradient(loss, trainable_vars)\n",
    "        self.optimizer.apply_gradients(zip(gradients, trainable_vars))\n",
    "        return {\"loss\": loss}\n",
    "\n",
    "# Create and compile the model\n",
    "model = CustomModel(header)\n",
    "model.compile(optimizer=tf.keras.optimizers.Adam())\n",
    "\n",
    "class LossHistory(tf.keras.callbacks.Callback):\n",
    "    def on_train_begin(self, logs={}):\n",
    "        self.losses = []\n",
    "\n",
    "    def on_batch_end(self, batch, logs={}):\n",
    "        self.losses.append(logs.get('loss'))\n",
    "\n",
    "# Train the model\n",
    "loss_hist = LossHistory()\n",
    "input_tensor = tf.convert_to_tensor(input, dtype='float32')\n",
    "history = model.fit(input_tensor, batch_size=1, epochs=2, callbacks=[loss_hist])"
   ]
  }
 ],
 "metadata": {
  "kernelspec": {
   "display_name": ".venv",
   "language": "python",
   "name": "python3"
  },
  "language_info": {
   "codemirror_mode": {
    "name": "ipython",
    "version": 3
   },
   "file_extension": ".py",
   "mimetype": "text/x-python",
   "name": "python",
   "nbconvert_exporter": "python",
   "pygments_lexer": "ipython3",
   "version": "3.6.8"
  }
 },
 "nbformat": 4,
 "nbformat_minor": 2
}
