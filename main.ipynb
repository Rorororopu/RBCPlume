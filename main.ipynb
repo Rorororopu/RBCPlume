{
 "cells": [
  {
   "cell_type": "code",
   "execution_count": 1,
   "metadata": {},
   "outputs": [],
   "source": [
    "import numpy as np"
   ]
  },
  {
   "cell_type": "code",
   "execution_count": 82,
   "metadata": {},
   "outputs": [],
   "source": [
    "import keras.layers\n",
    "import tensorflow as tf\n",
    "import keras.backend as K\n",
    "import keras.optimizers"
   ]
  },
  {
   "cell_type": "code",
   "execution_count": 35,
   "metadata": {},
   "outputs": [],
   "source": [
    "def loss_function_NN(data:tf.Tensor, header:list, classification:tf.Tensor) -> tf.Tensor:\n",
    "    '''\n",
    "    The function to calculate and tell the model how bad it performs prediction.\n",
    "\n",
    "    Args: \n",
    "        data: a tensor(tensorflow will automatically convert numpy array to tensorflow array),\n",
    "        recording the data of a batch. 1st index represents a data point, 2nd index represents\n",
    "        the values of each column at that grid point\n",
    "\n",
    "        header: a list storing the name of variables telling how variable temperature_gradient,\n",
    "        velocity_magnitude_gradient, z_velocity_gradient are correlated the 2nd index of the data.\n",
    "\n",
    "        classification: a 1D tensor, storing classification results between 0-1 for each grid points for this batch.\n",
    "\n",
    "    Returns: \n",
    "        loss: a SCALAR(single-value) tensor representing how bad a model predicts in a batch. A point with\n",
    "        high gradient and low classification value, or low gradient and high classification value will contribute\n",
    "        to higher loss. The loss wil also be high if the classificaition is close to 0.5, to encourage certain classification results.\n",
    "    '''\n",
    "    # Extract the indices of the gradients from the header\n",
    "    temp_grad_idx = header.index('temperature_gradient')\n",
    "    vel_mag_grad_idx = header.index('velocity_magnitude_gradient')\n",
    "    z_vel_grad_idx = header.index('z_velocity_gradient')\n",
    "\n",
    "    # Extract the gradient values from the data tensor\n",
    "    temperature_gradient = data[:, temp_grad_idx]\n",
    "    velocity_magnitude_gradient = data[:, vel_mag_grad_idx]\n",
    "    z_velocity_gradient = data[:, z_vel_grad_idx]\n",
    "\n",
    "    # Calculate the primary gradient loss\n",
    "    gradient_sum = temperature_gradient + velocity_magnitude_gradient + z_velocity_gradient\n",
    "    loss_high_class_low_grad = classification * (1 - gradient_sum)\n",
    "    loss_low_class_high_grad = (1 - classification) * gradient_sum\n",
    "\n",
    "    primary_loss = tf.reduce_mean(loss_high_class_low_grad + loss_low_class_high_grad)\n",
    "    \n",
    "    # Add regularization loss to encourage certain properties in classification\n",
    "    regularization_loss = tf.reduce_mean(tf.square(classification - 0.5))\n",
    "    \n",
    "    # Total loss\n",
    "    loss = primary_loss + regularization_loss\n",
    "\n",
    "    return loss"
   ]
  },
  {
   "cell_type": "code",
   "execution_count": 57,
   "metadata": {},
   "outputs": [],
   "source": [
    "class CustomMasking(keras.layers.Layer):\n",
    "    '''\n",
    "    Add a mask(Boolean mark) for points with NaN values.\n",
    "    '''\n",
    "    def __init__(self, mask_value=np.nan, **kwargs):\n",
    "        super(CustomMasking, self).__init__(**kwargs)\n",
    "        self.mask_value = mask_value\n",
    "\n",
    "    def build(self, input_shape):\n",
    "        super(CustomMasking, self).build(input_shape)\n",
    "\n",
    "    def call(self, inputs):\n",
    "        mask = K.not_equal(inputs, self.mask_value)\n",
    "        return tf.convert_to_tensor(K.switch(mask, inputs, K.constant(np.nan, dtype=inputs.dtype)))\n",
    "\n",
    "    def compute_output_shape(self, input_shape):\n",
    "        return input_shape"
   ]
  },
  {
   "cell_type": "code",
   "execution_count": 31,
   "metadata": {},
   "outputs": [],
   "source": [
    "class NaNHandlingLayer(keras.layers.Layer):\n",
    "    '''\n",
    "    Let points with NaN values have NaN classification result.\n",
    "    '''\n",
    "    def call(self, inputs):\n",
    "        non_nan_mask = tf.math.logical_not(tf.math.is_nan(inputs))\n",
    "        outputs = tf.convert_to_tensor(tf.where(non_nan_mask, inputs, tf.constant(np.nan, dtype=inputs.dtype)))\n",
    "        return outputs"
   ]
  },
  {
   "cell_type": "code",
   "execution_count": 21,
   "metadata": {},
   "outputs": [],
   "source": [
    "header = ['temperature_gradient','velocity_magnitude_gradient','z_velocity_gradient']"
   ]
  },
  {
   "cell_type": "code",
   "execution_count": 46,
   "metadata": {},
   "outputs": [],
   "source": [
    "input = np.array([\n",
    "    [0.9, 0.5, 0.4],\n",
    "    [np.nan, np.nan, np.nan],\n",
    "    [0.1, 0.4, 0.5],\n",
    "    [0.9, 0.8, 0.5],\n",
    "])"
   ]
  },
  {
   "cell_type": "code",
   "execution_count": 85,
   "metadata": {},
   "outputs": [],
   "source": [
    "def NN_model(header: list) -> keras.models.Model:\n",
    "    '''\n",
    "    Function to create a Neural Network model.\n",
    "\n",
    "    Args:\n",
    "        header: A list of headers representing the parameters.\n",
    "\n",
    "    Returns:\n",
    "        Model: A Keras Model object.\n",
    "    '''\n",
    "    \n",
    "    input_layer = keras.Input(shape=(len(header),))\n",
    "    masked = CustomMasking(mask_value=np.nan)(input_layer)# Exclude NaN values. They will be kept as NaN.\n",
    "    handled = NaNHandlingLayer()(masked)\n",
    "    x = keras.layers.Dense(len(header), activation='relu')(handled) # relu is a function: when x<0, y=0; when x>0, y=x.\n",
    "    x = keras.layers.BatchNormalization()(x)\n",
    "    x = keras.layers.Dense(len(header), activation='relu')(x)\n",
    "    x = keras.layers.BatchNormalization()(x)\n",
    "    x = keras.layers.Dense(len(header), activation='relu')(x)\n",
    "    output = keras.layers.Dense(1, activation='sigmoid')(x) # An s-curve whose output is between 0-1.\n",
    "    \n",
    "    model=tf.keras.Model(inputs=input_layer, outputs=output)\n",
    "    model.compile(optimizer=tf.keras.optimizers.Adam(), loss=loss_function_NN)\n",
    "\n",
    "    return model\n",
    "\n",
    "model = NN_model(header)"
   ]
  },
  {
   "cell_type": "code",
   "execution_count": null,
   "metadata": {},
   "outputs": [],
   "source": [
    "class LossHistory(tf.keras.callbacks.Callback):\n",
    "    def on_train_begin(self, logs={}):\n",
    "        self.losses = []\n",
    "\n",
    "    def on_batch_end(self, batch, logs={}):\n",
    "        self.losses.append(logs.get('loss'))"
   ]
  },
  {
   "cell_type": "code",
   "execution_count": null,
   "metadata": {},
   "outputs": [],
   "source": [
    "train, val = sklearn.model_selection.train_test_split(data, test_size=test_size, random_state=42) # Use a 42(or any other number) as a seed so the result of split is always the same \n",
    "loss_hist = LossHistory()\n",
    "model.fit(train,None,batch_size=batch_size,epochs=epochs,validation_data = (val,None), callbacks=[loss_hist])"
   ]
  },
  {
   "cell_type": "code",
   "execution_count": null,
   "metadata": {},
   "outputs": [],
   "source": [
    "    plt.figure(figsize=(10, 6))\n",
    "    plt.plot(loss_hist.losses, label='Loss over batches')\n",
    "    plt.xlabel('Batch number')\n",
    "    plt.ylabel('Loss')\n",
    "    plt.title('Loss Over Batches')\n",
    "    plt.legend()\n",
    "    plt.plt.savefig(path)"
   ]
  }
 ],
 "metadata": {
  "kernelspec": {
   "display_name": ".venv",
   "language": "python",
   "name": "python3"
  },
  "language_info": {
   "codemirror_mode": {
    "name": "ipython",
    "version": 3
   },
   "file_extension": ".py",
   "mimetype": "text/x-python",
   "name": "python",
   "nbconvert_exporter": "python",
   "pygments_lexer": "ipython3",
   "version": "3.6.8"
  }
 },
 "nbformat": 4,
 "nbformat_minor": 2
}
